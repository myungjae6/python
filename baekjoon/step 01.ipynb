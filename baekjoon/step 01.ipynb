{
 "cells": [
  {
   "cell_type": "code",
   "execution_count": null,
   "id": "717d09f3",
   "metadata": {},
   "outputs": [],
   "source": [
    "print('Hello World!')"
   ]
  },
  {
   "cell_type": "code",
   "execution_count": null,
   "id": "cbe096b5",
   "metadata": {},
   "outputs": [],
   "source": [
    "print('\\\\    /\\\\')\n",
    "print(\" )  ( ')\")\n",
    "print('(  /  )')\n",
    "print(' \\\\(__)|')"
   ]
  },
  {
   "cell_type": "code",
   "execution_count": null,
   "id": "88059694",
   "metadata": {},
   "outputs": [],
   "source": [
    "print('|\\\\_/|')\n",
    "print('|q p|   /}')\n",
    "print('( 0 )\"\"\"\\\\')\n",
    "print('|\"^\"`    |')\n",
    "print('||_/=\\\\\\\\__|')"
   ]
  },
  {
   "cell_type": "code",
   "execution_count": null,
   "id": "df0bad66",
   "metadata": {},
   "outputs": [],
   "source": [
    "a, b = input().split()\n",
    "a = int(a)\n",
    "b = int(b)\n",
    "print(a+b)"
   ]
  },
  {
   "cell_type": "code",
   "execution_count": null,
   "id": "7a4a3649",
   "metadata": {},
   "outputs": [],
   "source": [
    "a, b = input().split()\n",
    "a = int(a)\n",
    "b = int(b)\n",
    "print(a-b)"
   ]
  },
  {
   "cell_type": "code",
   "execution_count": null,
   "id": "afbfac33",
   "metadata": {},
   "outputs": [],
   "source": [
    "a, b = input().split()\n",
    "a = int(a)\n",
    "b = int(b)\n",
    "print(a*b)"
   ]
  },
  {
   "cell_type": "code",
   "execution_count": null,
   "id": "02e28f1f",
   "metadata": {},
   "outputs": [],
   "source": [
    "a, b = input().split()\n",
    "a = int(a)\n",
    "b = int(b)\n",
    "print(a/b)"
   ]
  },
  {
   "cell_type": "code",
   "execution_count": null,
   "id": "80131ffc",
   "metadata": {},
   "outputs": [],
   "source": [
    "a, b = input().split()\n",
    "a = int(a)\n",
    "b = int(b)\n",
    "print(a+b)\n",
    "print(a-b)\n",
    "print(a*b)\n",
    "print(math.floor(a/b))\n",
    "print(a%b)"
   ]
  },
  {
   "cell_type": "code",
   "execution_count": null,
   "id": "87eb8e68",
   "metadata": {},
   "outputs": [],
   "source": [
    "# 첫째 줄에 (A+B)%C, 둘째 줄에 ((A%C) + (B%C))%C, 셋째 줄에 (A×B)%C, 넷째 줄에 ((A%C) × (B%C))%C를 출력한다.\n",
    "\n",
    "a,b,c = input().split()\n",
    "A=int(a)\n",
    "B=int(b)\n",
    "C=int(c)\n",
    "print((A+B)%C)\n",
    "print(((A%C)+(B%C))%C)\n",
    "print((A*B)%C)\n",
    "print(((A%C) * (B%C))%C)"
   ]
  },
  {
   "cell_type": "code",
   "execution_count": 7,
   "id": "fd46711c",
   "metadata": {},
   "outputs": [
    {
     "name": "stdout",
     "output_type": "stream",
     "text": [
      "100\n",
      "321\n",
      "100\n",
      "200\n",
      "300\n",
      "32100\n"
     ]
    }
   ],
   "source": [
    "a = input()\n",
    "b = input()\n",
    "a=int(a)\n",
    "print(int(b[2])*a)\n",
    "print(int(b[1])*a)\n",
    "print(int(b[0])*a)\n",
    "print(int(b)*a)"
   ]
  }
 ],
 "metadata": {
  "kernelspec": {
   "display_name": "Python 3",
   "language": "python",
   "name": "python3"
  },
  "language_info": {
   "codemirror_mode": {
    "name": "ipython",
    "version": 3
   },
   "file_extension": ".py",
   "mimetype": "text/x-python",
   "name": "python",
   "nbconvert_exporter": "python",
   "pygments_lexer": "ipython3",
   "version": "3.7.10"
  }
 },
 "nbformat": 4,
 "nbformat_minor": 5
}
