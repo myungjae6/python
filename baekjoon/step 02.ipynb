{
 "cells": [
  {
   "cell_type": "code",
   "execution_count": null,
   "id": "ef2c6f6a",
   "metadata": {},
   "outputs": [],
   "source": [
    "a,b = input().split()\n",
    "a=int(a)\n",
    "b=int(b)\n",
    "if a>b:\n",
    "    print('>')\n",
    "elif a<b:\n",
    "    print('<')\n",
    "elif a==b:\n",
    "    print('==')"
   ]
  },
  {
   "cell_type": "code",
   "execution_count": null,
   "id": "c7e85802",
   "metadata": {},
   "outputs": [],
   "source": [
    "# 시험 점수를 입력받아 90 ~ 100점은 A, 80 ~ 89점은 B, 70 ~ 79점은 C, 60 ~ 69점은 D, 나머지 점수는 F를 출력하는 프로그램을 작성하시오.\n",
    "a = input()\n",
    "a=int(a)\n",
    "if 90<=a<=100:\n",
    "    print('A')\n",
    "elif 80<=a<=89:\n",
    "    print('B')\n",
    "elif 70<=a<=79:\n",
    "    print('C')\n",
    "elif 60<=a<=69:\n",
    "    print('D')\n",
    "else:\n",
    "    print('F')"
   ]
  },
  {
   "cell_type": "code",
   "execution_count": null,
   "id": "d0ee6089",
   "metadata": {},
   "outputs": [],
   "source": [
    "# 연도가 주어졌을 때, 윤년이면 1, 아니면 0을 출력하는 프로그램을 작성하시오.\n",
    "\n",
    "# 윤년은 연도가 4의 배수이면서, 100의 배수가 아닐 때 또는 400의 배수일 때이다.\n",
    "\n",
    "# 예를 들어, 2012년은 4의 배수이면서 100의 배수가 아니라서 윤년이다. 1900년은 100의 배수이고 400의 배수는 아니기 때문에 윤년이 X\n",
    "\n",
    "# 하지만, 2000년은 400의 배수이기 때문에 윤년이다.\n",
    "\n",
    "a = input()\n",
    "a = int(a)\n",
    "b=0\n",
    "if a%4==0:\n",
    "    b=1\n",
    "    if a%100 ==0:\n",
    "        b=0\n",
    "        if a%400 ==0:\n",
    "            b=1\n",
    "print(b)"
   ]
  },
  {
   "cell_type": "code",
   "execution_count": 6,
   "id": "f63c0841",
   "metadata": {},
   "outputs": [
    {
     "name": "stdout",
     "output_type": "stream",
     "text": [
      "-1\n",
      "-1\n",
      "3\n"
     ]
    }
   ],
   "source": [
    "a = input()\n",
    "b = input()\n",
    "a = int(a)\n",
    "b = int(b)\n",
    "if a>0:\n",
    "    if b>0:\n",
    "        print('1')\n",
    "    elif b<0:\n",
    "        print('2')\n",
    "elif a<0:\n",
    "    if b>0:\n",
    "        print('4')\n",
    "    elif b<0:\n",
    "        print('3')\n",
    "    "
   ]
  },
  {
   "cell_type": "code",
   "execution_count": 11,
   "id": "ba03c3b0",
   "metadata": {},
   "outputs": [
    {
     "name": "stdout",
     "output_type": "stream",
     "text": [
      "23 30\n",
      "22 45\n"
     ]
    }
   ],
   "source": [
    "a,b = input().split()\n",
    "a = int(a)\n",
    "b = int(b)\n",
    "if b>=45:\n",
    "    b=b-45\n",
    "elif b<45:\n",
    "    if a>=1:\n",
    "        a=a-1\n",
    "        b=b+15\n",
    "    elif a==0:\n",
    "        a=23\n",
    "        b=b+15\n",
    "a = str(a)\n",
    "b = str(b)\n",
    "print(a+' '+b)"
   ]
  }
 ],
 "metadata": {
  "kernelspec": {
   "display_name": "myungjae",
   "language": "python",
   "name": "myungjae"
  },
  "language_info": {
   "codemirror_mode": {
    "name": "ipython",
    "version": 3
   },
   "file_extension": ".py",
   "mimetype": "text/x-python",
   "name": "python",
   "nbconvert_exporter": "python",
   "pygments_lexer": "ipython3",
   "version": "3.7.10"
  }
 },
 "nbformat": 4,
 "nbformat_minor": 5
}
