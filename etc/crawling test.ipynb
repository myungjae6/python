{
 "cells": [
  {
   "cell_type": "code",
   "execution_count": 1,
   "id": "1cc85a62",
   "metadata": {},
   "outputs": [],
   "source": [
    "from urllib.parse import quote_plus    # 한글 텍스트를 퍼센트 인코딩으로 변환\n",
    "from selenium import webdriver\n",
    "from selenium.webdriver.common.by import By\n",
    "from selenium.webdriver.support.ui import WebDriverWait   # 해당 태그를 기다림\n",
    "from selenium.webdriver.support import expected_conditions as EC\n",
    "from selenium.common.exceptions import TimeoutException    # 태그가 없는 예외 처리\n",
    "import time\n",
    "import pandas as pd"
   ]
  },
  {
   "cell_type": "code",
   "execution_count": 2,
   "id": "4b831580",
   "metadata": {
    "scrolled": true
   },
   "outputs": [
    {
     "name": "stdout",
     "output_type": "stream",
     "text": [
      "-월--일, -월, 이번주, 이번주말 중 선택하여 입력해주세요.\n",
      "                                 (-은 숫자 입력, 이번년도만 가능) : 7월6일\n"
     ]
    }
   ],
   "source": [
    "_input = input('''-월--일, -월, 이번주, 이번주말 중 선택하여 입력해주세요.\n",
    "                                 (-은 숫자 입력, 이번년도만 가능) : ''')\n",
    "user_input = quote_plus(_input)"
   ]
  },
  {
   "cell_type": "code",
   "execution_count": 9,
   "id": "05811c90",
   "metadata": {},
   "outputs": [],
   "source": [
    "url = f'https://search.naver.com/search.naver?where=nexearch&sm=tab_etc&query={user_input}%20%EC%97%B0%EA%B7%B9%20%EA%B3%B5%EC%97%B0'\n",
    "chromedriver = r'C:\\jupyter_notebook\\chromedriver'"
   ]
  },
  {
   "cell_type": "code",
   "execution_count": 10,
   "id": "233a3cb5",
   "metadata": {},
   "outputs": [],
   "source": [
    "options = webdriver.ChromeOptions()\n",
    "#options.add_argument('headless')    # 웹 브라우저를 띄우지 않는 headlss chrome 옵션 적용\n",
    "options.add_argument('disable-gpu')    # GPU 사용 안함\n",
    "options.add_argument('lang=ko_KR')    # 언어 설정\n",
    "driver = webdriver.Chrome(chromedriver, options=options)"
   ]
  },
  {
   "cell_type": "code",
   "execution_count": null,
   "id": "73e6ac3e",
   "metadata": {},
   "outputs": [],
   "source": [
    "driver.get(url)"
   ]
  },
  {
   "cell_type": "code",
   "execution_count": null,
   "id": "b31bc588",
   "metadata": {},
   "outputs": [],
   "source": [
    "try:    # 정상 처리\n",
    "    element = WebDriverWait(driver, 3).until(\n",
    "        EC.presence_of_element_located((By.CLASS_NAME, 'list_title'))\n",
    "    )    # 해당 태그 존재 여부를 확인하기까지 3초 정지\n",
    "    theater_list = []\n",
    "    pageNum = int(driver.find_element_by_class_name('_totalCount').text)\n",
    "    count = 0\n",
    "    \n",
    "    for i in range(1, pageNum):\n",
    "        theater_data = driver.find_elements_by_class_name('list_title')\n",
    "        img_data = driver.find_elements_by_class_name('list_thumb')\n",
    "\n",
    "        for k in theater_data:\n",
    "            theater_list.append(k.text.split('\\n'))\n",
    "        \n",
    "        for j in img_data:  # 이미지 크롤링\n",
    "            count += 1\n",
    "            j.screenshot(f'img/{count}.png')\n",
    "        \n",
    "        driver.find_element_by_xpath(\"//a[@class='btn_page_next _btnNext on']\").click()\n",
    "        time.sleep(2) # 웹페이지를 불러오기 위해 2초 정지\n",
    "\n",
    "except TimeoutException:    # 예외 처리\n",
    "    print('해당 페이지에 연극 정보가 존재하지 않습니다.')\n",
    "\n",
    "finally:    # 정상, 예외 둘 중 하나여도 반드시 실행\n",
    "    driver.quit()\n",
    "\n",
    "for i in range(len(theater_list)):\n",
    "    theater_list[i].append(theater_list[i][1].split('~')[0])\n",
    "    theater_list[i].append(theater_list[i][1].split('~')[1])\n",
    "\n",
    "for i in range(len(theater_list)):\n",
    "    if theater_list[i][4] == '오픈런':\n",
    "        theater_list[i][4] = '50.01.01.'\n",
    "        theater_list[i].append('True')\n",
    "    else:\n",
    "        theater_list[i].append('False')\n",
    "\n",
    "theater_df = pd.DataFrame(theater_list,\n",
    "                          columns=['연극명', '기간', '장소', '개막일', '폐막일', '오픈런'])\n",
    "theater_df.index = theater_df.index + 1    # 인덱스 초기값 1로 변경\n",
    "theater_df['개막일'] = pd.to_datetime(theater_df['개막일'], format='%y.%m.%d.')\n",
    "theater_df['폐막일'] = pd.to_datetime(theater_df['폐막일'], format='%y.%m.%d.')\n",
    "theater_df.to_csv(f'theater_{_input}_df.csv', mode='w', encoding='utf-8-sig',\n",
    "                   header=True, index=True)\n",
    "\n",
    "print('웹 크롤링이 완료되었습니다.')"
   ]
  },
  {
   "cell_type": "code",
   "execution_count": null,
   "id": "df699d2b",
   "metadata": {},
   "outputs": [],
   "source": []
  }
 ],
 "metadata": {
  "kernelspec": {
   "display_name": "Python 3",
   "language": "python",
   "name": "python3"
  },
  "language_info": {
   "codemirror_mode": {
    "name": "ipython",
    "version": 3
   },
   "file_extension": ".py",
   "mimetype": "text/x-python",
   "name": "python",
   "nbconvert_exporter": "python",
   "pygments_lexer": "ipython3",
   "version": "3.7.0"
  }
 },
 "nbformat": 4,
 "nbformat_minor": 5
}
