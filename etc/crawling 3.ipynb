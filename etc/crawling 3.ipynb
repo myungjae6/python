{
 "cells": [
  {
   "cell_type": "code",
   "execution_count": 1,
   "id": "db044000",
   "metadata": {},
   "outputs": [],
   "source": [
    "from selenium import webdriver\n",
    "from bs4 import BeautifulSoup"
   ]
  },
  {
   "cell_type": "code",
   "execution_count": 2,
   "id": "62406ba2",
   "metadata": {},
   "outputs": [],
   "source": [
    "driver = webdriver.Chrome('C:/crawlingTest/chromedriver')"
   ]
  },
  {
   "cell_type": "code",
   "execution_count": 3,
   "id": "33096c77",
   "metadata": {},
   "outputs": [],
   "source": [
    "driver.implicitly_wait(3)"
   ]
  },
  {
   "cell_type": "code",
   "execution_count": 4,
   "id": "cc3f7edf",
   "metadata": {},
   "outputs": [],
   "source": [
    "driver.get('https://nid.naver.com/nidlogin.login')"
   ]
  },
  {
   "cell_type": "code",
   "execution_count": 5,
   "id": "04d4f366",
   "metadata": {},
   "outputs": [],
   "source": [
    "# 아이디/비밀번호를 입력해준다.\n",
    "driver.find_element_by_name('id').send_keys('myungjae6')\n",
    "driver.find_element_by_name('pw').send_keys('')"
   ]
  },
  {
   "cell_type": "code",
   "execution_count": 6,
   "id": "f46fe55f",
   "metadata": {},
   "outputs": [],
   "source": [
    "driver.find_element_by_xpath('//*[@id=\"frmNIDLogin\"]/fieldset/input').click()"
   ]
  },
  {
   "cell_type": "code",
   "execution_count": 32,
   "id": "f29f1160",
   "metadata": {},
   "outputs": [],
   "source": [
    "# Naver 페이 들어가기\n",
    "driver.get('https://order.pay.naver.com/home')\n",
    "#html = driver.page_source\n",
    "#soup = BeautifulSoup(html, 'html.parser')\n",
    "#notices = soup.select('#_rowLi20210623191440CHK2021062391175181 > div.goods_item > div > a > p > #text ')"
   ]
  },
  {
   "cell_type": "code",
   "execution_count": 33,
   "id": "6cd865b6",
   "metadata": {},
   "outputs": [],
   "source": [
    "notices = soup.find_all('p', class_='name')"
   ]
  },
  {
   "cell_type": "code",
   "execution_count": 34,
   "id": "acadcef0",
   "metadata": {
    "scrolled": true
   },
   "outputs": [
    {
     "name": "stdout",
     "output_type": "stream",
     "text": [
      "네이버플러스 멤버십\n",
      "\t\t\t\t\t\t\t국산 에어퀸 비말차단마스크 30팩(60매) 대형 KFAD\n",
      "네이버플러스 멤버십\n",
      "\t\t\t\t\t\t\t제로스킨 판테온 아이폰 12 미니 투명 케이스\n",
      "네이버플러스 멤버십\n",
      "\t\t\t\t\t\t\t컴소닉 PILLAR CM-110 구즈넥 스탠드 마이크\n",
      "네이버플러스 멤버십\n",
      "\t\t\t\t\t\t\t에센코어 KLEVV NEO N610 256GB TLC\n",
      "앤디스 초콜릿 132g - 4가지 Andes\n",
      "앤디스 초콜릿 132g - 4가지 Andes\n",
      "앤디스 초콜릿 132g - 4가지 Andes\n",
      "앤디스 초콜릿 132g - 4가지 Andes\n",
      "에어팟 실리콘케이스\n",
      "에어팟 실리콘케이스\n"
     ]
    }
   ],
   "source": [
    "for n in notices:\n",
    "    print(n.text.strip())"
   ]
  },
  {
   "cell_type": "code",
   "execution_count": 35,
   "id": "903f6b7c",
   "metadata": {},
   "outputs": [
    {
     "name": "stdout",
     "output_type": "stream",
     "text": [
      "국산 에어퀸 비말차단마스크 30팩(60매) 대형 KFAD\n",
      "제로스킨 판테온 아이폰 12 미니 투명 케이스\n",
      "컴소닉 PILLAR CM-110 구즈넥 스탠드 마이크\n",
      "에센코어 KLEVV NEO N610 256GB TLC\n",
      "앤디스 초콜릿 132g - 4가지 Andes\n",
      "앤디스 초콜릿 132g - 4가지 Andes\n",
      "앤디스 초콜릿 132g - 4가지 Andes\n",
      "앤디스 초콜릿 132g - 4가지 Andes\n",
      "에어팟 실리콘케이스\n",
      "에어팟 실리콘케이스\n"
     ]
    }
   ],
   "source": [
    "for n in notices:\n",
    "    print(n.contents[-1].strip())"
   ]
  },
  {
   "cell_type": "code",
   "execution_count": null,
   "id": "7f045e38",
   "metadata": {},
   "outputs": [],
   "source": []
  }
 ],
 "metadata": {
  "kernelspec": {
   "display_name": "Python 3",
   "language": "python",
   "name": "python3"
  },
  "language_info": {
   "codemirror_mode": {
    "name": "ipython",
    "version": 3
   },
   "file_extension": ".py",
   "mimetype": "text/x-python",
   "name": "python",
   "nbconvert_exporter": "python",
   "pygments_lexer": "ipython3",
   "version": "3.7.0"
  }
 },
 "nbformat": 4,
 "nbformat_minor": 5
}
